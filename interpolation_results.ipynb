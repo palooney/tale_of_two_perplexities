{
 "cells": [
  {
   "cell_type": "markdown",
   "metadata": {},
   "source": [
    "# This notebook reproduces the results from:\n",
    "Trevor Cohen* and Serguei Pakhomov*.  A Tale of Two Perplexities: Sensitivity of Neural Language Models to Lexical Retrieval Deficits in Dementia of the Alzheimer’s Type (* denotes equal contribution). To appear in Proceedings of the Annual Meeting of the Association for Computational Linguistics (ACL 2020), virtual conference, July 2020.\n"
   ]
  },
  {
   "cell_type": "markdown",
   "metadata": {},
   "source": [
    "# Final results comparing performance of models +- interpolation and pretrained embeddings"
   ]
  },
  {
   "cell_type": "code",
   "execution_count": 1,
   "metadata": {
    "ExecuteTime": {
     "end_time": "2020-05-01T17:17:06.874409Z",
     "start_time": "2020-05-01T17:16:59.000527Z"
    }
   },
   "outputs": [],
   "source": [
    "# read in output files (10 runs with and without pre-trained embeddings)\n",
    "# calculate AUC and accuracy at equal error rate\n",
    "from IPython.display import Markdown, display\n",
    "import matplotlib.pyplot as plt\n",
    "import pandas as pd\n",
    "import numpy as np\n",
    "from sklearn.metrics import roc_curve, auc, average_precision_score, precision_recall_curve\n",
    "%matplotlib inline\n",
    "\n",
    "aucframe = pd.DataFrame(columns = ['model','x_dementia','run','c','d','c-d AUC','c/d'])\n",
    "eerframe = pd.DataFrame(columns = ['model','x_dementia','run','c','d','c-d ACC','c/d'])\n",
    "counter = 0\n",
    "\n",
    "#get auc from all models\n",
    "for q in ['random','basic']:\n",
    "    \n",
    "    for c in range(1,11):\n",
    "        #print(str(c)+'------------------------')\n",
    "        auclist=[]\n",
    "        eerlist=[]\n",
    "        tempres=pd.read_csv('compare_interpolation/'+str(c)+'gluon_output_'+q+'.tmp', header=None, names=['label','control','d25','d50','d75','dementia','files'])\n",
    "        tempres=tempres.dropna();\n",
    "        ids=tempres['files'].replace(to_replace='-.*', value='',regex=True).replace(to_replace=' ', value='',regex=True)  \n",
    "        tempres['id']=ids\n",
    "        pf=tempres.groupby(['id']).mean()\n",
    "        labels=pf['label']\n",
    "        control=pf['control']\n",
    "        d25=pf['d25']\n",
    "        d50=pf['d50']\n",
    "        d75=pf['d75']\n",
    "        dementia=pf['dementia']\n",
    "        labels=pf['label']\n",
    "        k=['d25','d50','d75','dementia']\n",
    "        #resframe = pd.DataFrame(columns = ['model','x_dementia','run','c','d','c-d','c/d'])\n",
    "\n",
    "\n",
    "        for index,j in enumerate([d25,d50,d75,dementia]):\n",
    "            auclist=[q]\n",
    "            eerlist=[q]\n",
    "            #print(k[index])\n",
    "            auclist.append(k[index])\n",
    "            auclist.append(c)\n",
    "            eerlist.append(k[index])\n",
    "            eerlist.append(c)\n",
    "            for i in [['c',control],['d',j],['c-d',control-j],['c/d',control/j]]:\n",
    "                fpr, tpr, thresholds = roc_curve(labels,i[1])\n",
    "                roc_auc = auc(fpr, tpr)\n",
    "                auclist.append(roc_auc)\n",
    "                eerlist.append(tpr[np.nanargmax(np.absolute((tpr - fpr)))])\n",
    "                #print(i[0],\"\\tAUC={:0.3f}\".format(roc_auc), \"\\tACC={:0.3f}\".format(tpr[np.nanargmax(np.absolute((tpr - fpr)))]))\n",
    "            \n",
    "            counter = counter + 1\n",
    "            aucframe.loc[counter] = auclist\n",
    "            eerframe.loc[counter] = eerlist"
   ]
  },
  {
   "cell_type": "code",
   "execution_count": 2,
   "metadata": {
    "ExecuteTime": {
     "end_time": "2020-05-01T17:17:06.943116Z",
     "start_time": "2020-05-01T17:17:06.876844Z"
    }
   },
   "outputs": [
    {
     "name": "stdout",
     "output_type": "stream",
     "text": [
      "STOCHASTICALLY INITIALIZED\n"
     ]
    },
    {
     "data": {
      "text/html": [
       "<div>\n",
       "<style scoped>\n",
       "    .dataframe tbody tr th:only-of-type {\n",
       "        vertical-align: middle;\n",
       "    }\n",
       "\n",
       "    .dataframe tbody tr th {\n",
       "        vertical-align: top;\n",
       "    }\n",
       "\n",
       "    .dataframe thead tr th {\n",
       "        text-align: left;\n",
       "    }\n",
       "\n",
       "    .dataframe thead tr:last-of-type th {\n",
       "        text-align: right;\n",
       "    }\n",
       "</style>\n",
       "<table border=\"1\" class=\"dataframe\">\n",
       "  <thead>\n",
       "    <tr>\n",
       "      <th></th>\n",
       "      <th>c-d AUC</th>\n",
       "      <th>c-d ci</th>\n",
       "      <th>c-d ACC</th>\n",
       "      <th>c-d ci</th>\n",
       "    </tr>\n",
       "    <tr>\n",
       "      <th></th>\n",
       "      <th>mean</th>\n",
       "      <th></th>\n",
       "      <th>mean</th>\n",
       "      <th></th>\n",
       "    </tr>\n",
       "    <tr>\n",
       "      <th>x_dementia</th>\n",
       "      <th></th>\n",
       "      <th></th>\n",
       "      <th></th>\n",
       "      <th></th>\n",
       "    </tr>\n",
       "  </thead>\n",
       "  <tbody>\n",
       "    <tr>\n",
       "      <th>d25</th>\n",
       "      <td>0.842</td>\n",
       "      <td>0.008</td>\n",
       "      <td>0.689</td>\n",
       "      <td>0.036</td>\n",
       "    </tr>\n",
       "    <tr>\n",
       "      <th>d50</th>\n",
       "      <td>0.816</td>\n",
       "      <td>0.009</td>\n",
       "      <td>0.669</td>\n",
       "      <td>0.035</td>\n",
       "    </tr>\n",
       "    <tr>\n",
       "      <th>d75</th>\n",
       "      <td>0.931</td>\n",
       "      <td>0.003</td>\n",
       "      <td>0.854</td>\n",
       "      <td>0.031</td>\n",
       "    </tr>\n",
       "    <tr>\n",
       "      <th>dementia</th>\n",
       "      <td>0.908</td>\n",
       "      <td>0.004</td>\n",
       "      <td>0.846</td>\n",
       "      <td>0.023</td>\n",
       "    </tr>\n",
       "  </tbody>\n",
       "</table>\n",
       "</div>"
      ],
      "text/plain": [
       "           c-d AUC c-d ci c-d ACC c-d ci\n",
       "              mean           mean       \n",
       "x_dementia                              \n",
       "d25          0.842  0.008   0.689  0.036\n",
       "d50          0.816  0.009   0.669  0.035\n",
       "d75          0.931  0.003   0.854  0.031\n",
       "dementia     0.908  0.004   0.846  0.023"
      ]
     },
     "execution_count": 2,
     "metadata": {},
     "output_type": "execute_result"
    }
   ],
   "source": [
    "#stochastically initialized, AUC and accuracy at EER\n",
    "aucframe_std = aucframe[aucframe['model']=='random'].groupby('x_dementia').agg([np.mean,np.std])\n",
    "aucframe_std['c-d ci'] = (1.96*aucframe_std['c-d AUC']['std'] / np.sqrt(10)) #resframe_std['c/d']['mean'] - (1.96*resframe_std['c/d']['std'] / np.sqrt(10)) \n",
    "eerframe_std = eerframe[eerframe['model']=='random'].groupby('x_dementia').agg([np.mean,np.std])\n",
    "eerframe_std['c-d ci'] = (1.96*eerframe_std['c-d ACC']['std'] / np.sqrt(10)) #resframe_std['c/d']['mean'] - (1.96*resframe_std['c/d']['std'] / np.sqrt(10)) \n",
    "comboframe=pd.concat([aucframe_std, eerframe_std], axis=1, sort=False)\n",
    "print(\"STOCHASTICALLY INITIALIZED\")\n",
    "comboframe.iloc[:,np.r_[4,8,13,17]].round(3)"
   ]
  },
  {
   "cell_type": "code",
   "execution_count": 3,
   "metadata": {
    "ExecuteTime": {
     "end_time": "2020-05-01T17:17:12.695135Z",
     "start_time": "2020-05-01T17:17:12.637703Z"
    }
   },
   "outputs": [
    {
     "name": "stdout",
     "output_type": "stream",
     "text": [
      "PRETRAINED WORD EMBEDDINGS\n"
     ]
    },
    {
     "data": {
      "text/html": [
       "<div>\n",
       "<style scoped>\n",
       "    .dataframe tbody tr th:only-of-type {\n",
       "        vertical-align: middle;\n",
       "    }\n",
       "\n",
       "    .dataframe tbody tr th {\n",
       "        vertical-align: top;\n",
       "    }\n",
       "\n",
       "    .dataframe thead tr th {\n",
       "        text-align: left;\n",
       "    }\n",
       "\n",
       "    .dataframe thead tr:last-of-type th {\n",
       "        text-align: right;\n",
       "    }\n",
       "</style>\n",
       "<table border=\"1\" class=\"dataframe\">\n",
       "  <thead>\n",
       "    <tr>\n",
       "      <th></th>\n",
       "      <th>c-d AUC</th>\n",
       "      <th>c-d ci</th>\n",
       "      <th>c-d ACC</th>\n",
       "      <th>c-d ci</th>\n",
       "    </tr>\n",
       "    <tr>\n",
       "      <th></th>\n",
       "      <th>mean</th>\n",
       "      <th></th>\n",
       "      <th>mean</th>\n",
       "      <th></th>\n",
       "    </tr>\n",
       "    <tr>\n",
       "      <th>x_dementia</th>\n",
       "      <th></th>\n",
       "      <th></th>\n",
       "      <th></th>\n",
       "      <th></th>\n",
       "    </tr>\n",
       "  </thead>\n",
       "  <tbody>\n",
       "    <tr>\n",
       "      <th>d25</th>\n",
       "      <td>0.838</td>\n",
       "      <td>0.015</td>\n",
       "      <td>0.724</td>\n",
       "      <td>0.034</td>\n",
       "    </tr>\n",
       "    <tr>\n",
       "      <th>d50</th>\n",
       "      <td>0.813</td>\n",
       "      <td>0.005</td>\n",
       "      <td>0.665</td>\n",
       "      <td>0.033</td>\n",
       "    </tr>\n",
       "    <tr>\n",
       "      <th>d75</th>\n",
       "      <td>0.941</td>\n",
       "      <td>0.006</td>\n",
       "      <td>0.872</td>\n",
       "      <td>0.010</td>\n",
       "    </tr>\n",
       "    <tr>\n",
       "      <th>dementia</th>\n",
       "      <td>0.930</td>\n",
       "      <td>0.005</td>\n",
       "      <td>0.839</td>\n",
       "      <td>0.017</td>\n",
       "    </tr>\n",
       "  </tbody>\n",
       "</table>\n",
       "</div>"
      ],
      "text/plain": [
       "           c-d AUC c-d ci c-d ACC c-d ci\n",
       "              mean           mean       \n",
       "x_dementia                              \n",
       "d25          0.838  0.015   0.724  0.034\n",
       "d50          0.813  0.005   0.665  0.033\n",
       "d75          0.941  0.006   0.872  0.010\n",
       "dementia     0.930  0.005   0.839  0.017"
      ]
     },
     "execution_count": 3,
     "metadata": {},
     "output_type": "execute_result"
    }
   ],
   "source": [
    "#pretrained embeddings, AUC and accuracy at EER\n",
    "aucframe_std = aucframe[aucframe['model']=='basic'].groupby('x_dementia').agg([np.mean,np.std])\n",
    "aucframe_std['c-d ci'] = (1.96*aucframe_std['c-d AUC']['std'] / np.sqrt(10)) #resframe_std['c/d']['mean'] - (1.96*resframe_std['c/d']['std'] / np.sqrt(10)) \n",
    "eerframe_std = eerframe[eerframe['model']=='basic'].groupby('x_dementia').agg([np.mean,np.std])\n",
    "eerframe_std['c-d ci'] = (1.96*eerframe_std['c-d ACC']['std'] / np.sqrt(10)) #resframe_std['c/d']['mean'] - (1.96*resframe_std['c/d']['std'] / np.sqrt(10)) \n",
    "comboframe=pd.concat([aucframe_std, eerframe_std], axis=1, sort=False)\n",
    "print(\"PRETRAINED WORD EMBEDDINGS\")\n",
    "comboframe.iloc[:,np.r_[4,8,13,17]].round(3)"
   ]
  },
  {
   "cell_type": "markdown",
   "metadata": {
    "ExecuteTime": {
     "end_time": "2020-04-24T23:58:05.207461Z",
     "start_time": "2020-04-24T23:58:05.143961Z"
    }
   },
   "source": [
    "# Paired perplexity of 'control' and 'dementia' models in relation to synthetic transcripts"
   ]
  },
  {
   "cell_type": "code",
   "execution_count": 17,
   "metadata": {
    "ExecuteTime": {
     "end_time": "2020-05-01T17:25:22.567669Z",
     "start_time": "2020-05-01T17:25:22.553561Z"
    }
   },
   "outputs": [],
   "source": [
    "#evaluate perplexities for synthetic transcripts (from first LOOCV run)\n",
    "birdframe = pd.read_csv('compare_interpolation/1bird_output_random.tmp',header=None, names=['file','control','d25','d50','d75','dementia'])"
   ]
  },
  {
   "cell_type": "code",
   "execution_count": 18,
   "metadata": {
    "ExecuteTime": {
     "end_time": "2020-05-01T17:25:23.464181Z",
     "start_time": "2020-05-01T17:25:23.455467Z"
    }
   },
   "outputs": [],
   "source": [
    "bframe = birdframe.groupby('file').mean()\n",
    "berrframe = birdframe.groupby('file').std()"
   ]
  },
  {
   "cell_type": "code",
   "execution_count": 19,
   "metadata": {
    "ExecuteTime": {
     "end_time": "2020-05-01T17:25:24.109760Z",
     "start_time": "2020-05-01T17:25:24.098746Z"
    }
   },
   "outputs": [
    {
     "data": {
      "text/html": [
       "<div>\n",
       "<style scoped>\n",
       "    .dataframe tbody tr th:only-of-type {\n",
       "        vertical-align: middle;\n",
       "    }\n",
       "\n",
       "    .dataframe tbody tr th {\n",
       "        vertical-align: top;\n",
       "    }\n",
       "\n",
       "    .dataframe thead th {\n",
       "        text-align: right;\n",
       "    }\n",
       "</style>\n",
       "<table border=\"1\" class=\"dataframe\">\n",
       "  <thead>\n",
       "    <tr style=\"text-align: right;\">\n",
       "      <th></th>\n",
       "      <th>control</th>\n",
       "      <th>d25</th>\n",
       "      <th>d50</th>\n",
       "      <th>d75</th>\n",
       "      <th>dementia</th>\n",
       "    </tr>\n",
       "    <tr>\n",
       "      <th>file</th>\n",
       "      <th></th>\n",
       "      <th></th>\n",
       "      <th></th>\n",
       "      <th></th>\n",
       "      <th></th>\n",
       "    </tr>\n",
       "  </thead>\n",
       "  <tbody>\n",
       "    <tr>\n",
       "      <th>mct_1_0.txt</th>\n",
       "      <td>52.537985</td>\n",
       "      <td>53.344787</td>\n",
       "      <td>171.183890</td>\n",
       "      <td>86.123216</td>\n",
       "      <td>85.610736</td>\n",
       "    </tr>\n",
       "    <tr>\n",
       "      <th>mct_1_5.txt</th>\n",
       "      <td>88.700744</td>\n",
       "      <td>75.057326</td>\n",
       "      <td>190.769023</td>\n",
       "      <td>105.989855</td>\n",
       "      <td>115.387488</td>\n",
       "    </tr>\n",
       "    <tr>\n",
       "      <th>mct_2_0.txt</th>\n",
       "      <td>129.868641</td>\n",
       "      <td>98.160491</td>\n",
       "      <td>213.240311</td>\n",
       "      <td>125.639616</td>\n",
       "      <td>148.459498</td>\n",
       "    </tr>\n",
       "    <tr>\n",
       "      <th>mct_2_5.txt</th>\n",
       "      <td>182.741229</td>\n",
       "      <td>119.104145</td>\n",
       "      <td>209.136780</td>\n",
       "      <td>122.683951</td>\n",
       "      <td>153.127117</td>\n",
       "    </tr>\n",
       "    <tr>\n",
       "      <th>mct_3_0.txt</th>\n",
       "      <td>404.991195</td>\n",
       "      <td>225.246773</td>\n",
       "      <td>302.464378</td>\n",
       "      <td>211.852153</td>\n",
       "      <td>310.039882</td>\n",
       "    </tr>\n",
       "  </tbody>\n",
       "</table>\n",
       "</div>"
      ],
      "text/plain": [
       "                 control         d25         d50         d75    dementia\n",
       "file                                                                    \n",
       "mct_1_0.txt    52.537985   53.344787  171.183890   86.123216   85.610736\n",
       "mct_1_5.txt    88.700744   75.057326  190.769023  105.989855  115.387488\n",
       "mct_2_0.txt   129.868641   98.160491  213.240311  125.639616  148.459498\n",
       "mct_2_5.txt   182.741229  119.104145  209.136780  122.683951  153.127117\n",
       "mct_3_0.txt   404.991195  225.246773  302.464378  211.852153  310.039882"
      ]
     },
     "execution_count": 19,
     "metadata": {},
     "output_type": "execute_result"
    }
   ],
   "source": [
    "bframe.head()"
   ]
  },
  {
   "cell_type": "code",
   "execution_count": 21,
   "metadata": {
    "ExecuteTime": {
     "end_time": "2020-05-01T17:26:47.795589Z",
     "start_time": "2020-05-01T17:26:47.600081Z"
    }
   },
   "outputs": [
    {
     "data": {
      "image/png": "[encoded data removed]",
      "text/plain": [
       "<Figure size 432x288 with 1 Axes>"
      ]
     },
     "metadata": {
      "needs_background": "light"
     },
     "output_type": "display_data"
    }
   ],
   "source": [
    "%matplotlib inline\n",
    "import matplotlib.pyplot as plt\n",
    "import numpy as np\n",
    "import pandas as pd\n",
    "import seaborn as sns\n",
    "#thanks to http://olsgaard.dk/monochrome-black-white-plots-in-matplotlib.html\n",
    "from cycler import cycler\n",
    "# Create cycler object. Use any styling from above you please\n",
    "monochrome = (cycler('color', ['k']) * cycler('linestyle', ['-', '--', ':', '=.']) * cycler('marker', ['.','.', '^']))\n",
    "\n",
    "bframe = birdframe.groupby('file').mean()\n",
    "desired_columns = [0,1,1.5,2,2.5,3]\n",
    "# Plot\n",
    "fig, ax = plt.subplots()\n",
    "ax.set_prop_cycle(monochrome)\n",
    "\n",
    "ax.margins(0.05) # Optional, just adds 5% padding to the autoscaling\n",
    "plt.plot(desired_columns,bframe['control'].values[[5,0,1,2,3,4]],label='Control model')\n",
    "plt.plot(desired_columns,bframe['dementia'].values[[5,0,1,2,3,4]],label='Dementia model', linestyle='dashed')\n",
    "plt.errorbar(desired_columns,bframe['control'].values[[5,0,1,2,3,4]], yerr=berrframe['control'].values[[5,0,1,2,3,4]]/np.sqrt(2680), fmt='.k');\n",
    "plt.errorbar(desired_columns,bframe['dementia'].values[[5,0,1,2,3,4]], yerr=berrframe['dementia'].values[[5,0,1,2,3,4]]/np.sqrt(2680), fmt='.k');\n",
    "    \n",
    "ax.legend(fontsize='10')#loc='center left', bbox_to_anchor=(1, 0.5))\n",
    "#plt.xticks(np.arange(0, 3)) \n",
    "plt.ylabel('LSTM model perplexity')\n",
    "plt.xlabel('Log frequency bands')\n",
    "plt.show()"
   ]
  },
  {
   "cell_type": "markdown",
   "metadata": {},
   "source": [
    "# Interpolated models + synthetic transcripts"
   ]
  },
  {
   "cell_type": "code",
   "execution_count": 22,
   "metadata": {
    "ExecuteTime": {
     "end_time": "2020-05-01T17:26:53.333465Z",
     "start_time": "2020-05-01T17:26:53.247710Z"
    }
   },
   "outputs": [],
   "source": [
    "import scipy\n",
    "bresframe = pd.DataFrame(columns=['xdementia','1','1.5','2','2.5','3','0'])\n",
    "berrframe = pd.DataFrame(columns=['xdementia','1','1.5','2','2.5','3','0'])\n",
    "\n",
    "birdmeans = birdframe.groupby('file').agg([np.mean])\n",
    "birderrs = birdframe.groupby('file').agg([np.std])\n",
    "\n",
    "# iterating the columns \n",
    "counter = 0\n",
    "\n",
    "for it,col in enumerate(birdmeans.columns): \n",
    "    reslist = [counter*.25]\n",
    "    for bm in birdmeans[col]:\n",
    "        reslist.append(bm - np.min(birdmeans[col]))\n",
    "    bresframe.loc[counter] = reslist\n",
    "    counter = counter + 1\n",
    "    \n",
    "counter = 0\n",
    "\n",
    "for it,col in enumerate(birderrs.columns): \n",
    "    reslist = [counter*.25]\n",
    "    for em in birderrs[col]:\n",
    "        reslist.append(em)\n",
    "    berrframe.loc[counter] = reslist\n",
    "    counter = counter + 1"
   ]
  },
  {
   "cell_type": "code",
   "execution_count": 23,
   "metadata": {
    "ExecuteTime": {
     "end_time": "2020-05-01T17:27:02.872129Z",
     "start_time": "2020-05-01T17:27:02.687883Z"
    },
    "scrolled": true
   },
   "outputs": [
    {
     "data": {
      "image/png": "[encoded data removed]",
      "text/plain": [
       "<Figure size 432x288 with 1 Axes>"
      ]
     },
     "metadata": {
      "needs_background": "light"
     },
     "output_type": "display_data"
    }
   ],
   "source": [
    "%matplotlib inline\n",
    "import matplotlib.pyplot as plt\n",
    "import numpy as np\n",
    "import pandas as pd\n",
    "import seaborn as sns\n",
    "#thanks to http://olsgaard.dk/monochrome-black-white-plots-in-matplotlib.html\n",
    "\n",
    "desired_columns = ['3','2.5','2','1.5','1']\n",
    "# Plot\n",
    "fig, ax = plt.subplots()\n",
    "ax.set_prop_cycle(monochrome)\n",
    "ax.margins(0.05) # Optional, just adds 5% padding to the autoscaling\n",
    "for b in desired_columns:\n",
    "    #ax.scatter(bresframe['xdementia'],bresframe[b])\n",
    "    #plt.errorbar(bresframe['xdementia'],bresframe[b], yerr=berrframe[b] / np.sqrt(2680), fmt='.k');\n",
    "    plt.plot(bresframe['xdementia'],bresframe[b])\n",
    "\n",
    "#ax.legend(loc='center left', bbox_to_anchor=(1, 0.5))\n",
    "ax.legend(loc='upper right', fontsize='9',bbox_to_anchor=(1, 1))\n",
    "plt.xticks(np.arange(0, 1.1, 0.25)) \n",
    "plt.ylabel('Px - Po')\n",
    "plt.xlabel('$\\\\alpha$')#'% Dementia LM')\n",
    "plt.show()\n",
    "#mixframe.plot(kind='scatter',x='xdementia',y='perplexity')"
   ]
  },
  {
   "cell_type": "code",
   "execution_count": 25,
   "metadata": {
    "ExecuteTime": {
     "end_time": "2020-05-01T20:14:03.218586Z",
     "start_time": "2020-05-01T20:14:02.938472Z"
    }
   },
   "outputs": [
    {
     "data": {
      "image/png": "[encoded data removed]",
      "text/plain": [
       "<Figure size 432x288 with 1 Axes>"
      ]
     },
     "metadata": {
      "needs_background": "light"
     },
     "output_type": "display_data"
    }
   ],
   "source": [
    "#same analysis with pretrained embeddings (not in paper)\n",
    "#add perplexities for synthetic transcripts\n",
    "birdframe = pd.read_csv('compare_interpolation/1bird_output_basic.tmp',header=None, names=['file','control','d25','d50','d75','dementia'])\n",
    "\n",
    "bresframe = pd.DataFrame(columns=['xdementia','1','1.5','2','2.5','3','0'])\n",
    "berrframe = pd.DataFrame(columns=['xdementia','1','1.5','2','2.5','3','0'])\n",
    "\n",
    "birdmeans = birdframe.groupby('file').agg([np.mean])\n",
    "birderrs = birdframe.groupby('file').agg([np.std])\n",
    "\n",
    "# iterating the columns \n",
    "counter = 0\n",
    "\n",
    "for it,col in enumerate(birdmeans.columns): \n",
    "    reslist = [counter*.25]\n",
    "    for bm in birdmeans[col]:\n",
    "        reslist.append(bm - np.min(birdmeans[col]))\n",
    "    bresframe.loc[counter] = reslist\n",
    "    counter = counter + 1\n",
    "    \n",
    "counter = 0\n",
    "\n",
    "for it,col in enumerate(birderrs.columns): \n",
    "    reslist = [counter*.25]\n",
    "    for em in birderrs[col]:\n",
    "        reslist.append(em)\n",
    "    berrframe.loc[counter] = reslist\n",
    "    counter = counter + 1\n",
    "\n",
    "desired_columns = ['3','2.5','2','1.5','1']\n",
    "# Plot\n",
    "fig, ax = plt.subplots()\n",
    "ax.set_prop_cycle(monochrome)\n",
    "ax.margins(0.05) # Optional, just adds 5% padding to the autoscaling\n",
    "for b in desired_columns:\n",
    "    #ax.scatter(bresframe['xdementia'],bresframe[b])\n",
    "    #plt.errorbar(bresframe['xdementia'],bresframe[b], yerr=berrframe[b] / np.sqrt(2680), fmt='.k');\n",
    "    plt.plot(bresframe['xdementia'],bresframe[b])\n",
    "\n",
    "#ax.legend(loc='center left', bbox_to_anchor=(1, 0.5))\n",
    "ax.legend(loc='upper right', fontsize='9',bbox_to_anchor=(1, 1))\n",
    "\n",
    "#ax.legend()\n",
    "plt.xticks(np.arange(0, 1.1, 0.25)) \n",
    "plt.ylabel('Px - Po')\n",
    "plt.xlabel('$\\\\alpha$')#'% Dementia LM')\n",
    "plt.show()\n",
    "#mixframe.plot(kind='scatter',x='xdementia',y='perplexity')\n",
    "\n"
   ]
  },
  {
   "cell_type": "markdown",
   "metadata": {},
   "source": [
    "## Mean 'dementia' case perplexities of baseline, pretrained and interpreted models"
   ]
  },
  {
   "cell_type": "code",
   "execution_count": 68,
   "metadata": {
    "ExecuteTime": {
     "end_time": "2020-04-27T16:34:56.730745Z",
     "start_time": "2020-04-27T16:34:56.624810Z"
    }
   },
   "outputs": [],
   "source": [
    "import pandas as pd\n",
    "d75 = []\n",
    "dr  = []\n",
    "dpt = []\n",
    "dpt75 = []\n",
    "\n",
    "for i in range(1,11):\n",
    "    tempres_r=pd.read_csv('compare_interpolation/'+str(i)+'gluon_output_'+'random'+'.tmp', header=None, names=['label','control','d25','d50','d75','dementia','files'])\n",
    "    tempres_b=pd.read_csv('compare_interpolation/'+str(i)+'gluon_output_'+'basic'+'.tmp', header=None, names=['label','control','d25','d50','d75','dementia','files'])\n",
    "    dr.append(tempres_r[tempres_r.label ==1]['dementia'].mean())\n",
    "    d75.append(tempres_r[tempres_r.label ==1]['d75'].mean())\n",
    "    dpt.append(tempres_b[tempres_b.label ==1]['dementia'].mean())\n",
    "    dpt75.append(tempres_b[tempres_b.label ==1]['d75'].mean())"
   ]
  },
  {
   "cell_type": "code",
   "execution_count": 69,
   "metadata": {
    "ExecuteTime": {
     "end_time": "2020-04-27T16:34:57.334000Z",
     "start_time": "2020-04-27T16:34:57.324155Z"
    }
   },
   "outputs": [
    {
     "name": "stdout",
     "output_type": "stream",
     "text": [
      "model xp(dem) +- CI\n",
      "random 51.116 +- 0.815\n",
      "pretra 44.829 +- 0.532\n",
      "inte75 47.322 +- 0.322\n",
      "pret75 47.649 +- 0.448\n"
     ]
    }
   ],
   "source": [
    "import numpy as np\n",
    "print('model','xp(dem)','+-','CI')\n",
    "print('random',round(np.mean(dr),3),'+-',round(1.96*np.std(dr)/np.sqrt(10),3))\n",
    "print('pretra',round(np.mean(dpt),3),'+-',round(1.96*np.std(dpt)/np.sqrt(10),3))\n",
    "print('inte75',round(np.mean(d75),3),'+-',round(1.96*np.std(d75)/np.sqrt(10),3))\n",
    "print('pret75',round(np.mean(dpt75),3),'+-',round(1.96*np.std(dpt75)/np.sqrt(10),3))"
   ]
  },
  {
   "cell_type": "markdown",
   "metadata": {
    "ExecuteTime": {
     "end_time": "2020-04-26T02:32:29.568502Z",
     "start_time": "2020-04-26T02:32:29.565750Z"
    }
   },
   "source": [
    "# Same analyses for mild dementia cases"
   ]
  },
  {
   "cell_type": "code",
   "execution_count": 25,
   "metadata": {
    "ExecuteTime": {
     "end_time": "2020-04-26T23:46:42.544980Z",
     "start_time": "2020-04-26T23:46:42.533031Z"
    }
   },
   "outputs": [],
   "source": [
    "f2mmse_frame = pd.read_csv('f2mmse.csv')"
   ]
  },
  {
   "cell_type": "code",
   "execution_count": 26,
   "metadata": {
    "ExecuteTime": {
     "end_time": "2020-04-26T23:46:43.133219Z",
     "start_time": "2020-04-26T23:46:43.124130Z"
    }
   },
   "outputs": [],
   "source": [
    "lv_frame=f2mmse_frame.sort_values(by='visit').groupby('id').last()\n",
    "lv_frame['id'] = lv_frame.index.values"
   ]
  },
  {
   "cell_type": "code",
   "execution_count": 27,
   "metadata": {
    "ExecuteTime": {
     "end_time": "2020-04-26T23:46:43.854284Z",
     "start_time": "2020-04-26T23:46:43.764315Z"
    }
   },
   "outputs": [],
   "source": [
    "#Get MMSE scores\n",
    "mmse_id_dict={}\n",
    "for i, row in lv_frame.iterrows():\n",
    "    candidate = row['mmse']\n",
    "    mmse_id_dict.update({str(row.id) : candidate})\n",
    "    \n",
    "#Get MMSE scores\n",
    "mmse_dict={}\n",
    "for i, row in f2mmse_frame.iterrows():\n",
    "    candidate = row['mmse']\n",
    "    mmse_dict.update({str(row.files) : candidate})"
   ]
  },
  {
   "cell_type": "code",
   "execution_count": 28,
   "metadata": {
    "ExecuteTime": {
     "end_time": "2020-04-26T23:46:44.611574Z",
     "start_time": "2020-04-26T23:46:44.606273Z"
    }
   },
   "outputs": [],
   "source": [
    "#add the MMSE for a trancript\n",
    "def add_mmse(tempres2):\n",
    "    mmse_list = []\n",
    "    miscount = 0\n",
    "    for i, row in tempres2.iterrows():\n",
    "        try:\n",
    "            mmse_list.append(mmse_dict[row.files.strip()])\n",
    "        except: \n",
    "            miscount = miscount +1\n",
    "            #print(miscount,\"No id for\",'[',row.files,']')\n",
    "            mmse_list.append(np.nan)\n",
    "\n",
    "    tempres2['mmse'] = mmse_list\n",
    "    return tempres2"
   ]
  },
  {
   "cell_type": "code",
   "execution_count": 41,
   "metadata": {
    "ExecuteTime": {
     "end_time": "2020-04-26T23:48:54.180237Z",
     "start_time": "2020-04-26T23:48:54.175147Z"
    }
   },
   "outputs": [],
   "source": [
    "#add the last recorded MMSE for a participant\n",
    "def add_mmse2(tempres2):\n",
    "    mmse_list = []\n",
    "    miscount = 0\n",
    "    for i, row in tempres2.iterrows():\n",
    "        try:\n",
    "            mmse_list.append(mmse_id_dict[row.files.strip()[0:3]])\n",
    "        except: \n",
    "            miscount = miscount +1\n",
    "            #print(miscount,\"No id for\",'[',row.files,']')\n",
    "            mmse_list.append(np.nan)\n",
    "\n",
    "    tempres2['mmse'] = mmse_list\n",
    "    return tempres2.dropna()"
   ]
  },
  {
   "cell_type": "code",
   "execution_count": 42,
   "metadata": {
    "ExecuteTime": {
     "end_time": "2020-04-26T23:48:55.901763Z",
     "start_time": "2020-04-26T23:48:54.934715Z"
    }
   },
   "outputs": [],
   "source": [
    "#Perplexities of models for MMSE <=10\n",
    "d75 = []\n",
    "dr  = []\n",
    "dpt = []\n",
    "dpt75 = []\n",
    "\n",
    "for i in range(1,11):\n",
    "    tempres_r=add_mmse(pd.read_csv('compare_interpolation/'+str(i)+'gluon_output_'+'random'+'.tmp', header=None, names=['label','control','d25','d50','d75','dementia','files']))\n",
    "    tempres_r=tempres_r[tempres_r.mmse <= 10]\n",
    "    tempres_b=add_mmse(pd.read_csv('compare_interpolation/'+str(i)+'gluon_output_'+'basic'+'.tmp', header=None, names=['label','control','d25','d50','d75','dementia','files']))\n",
    "    tempres_b=tempres_b[tempres_b.mmse <= 10]\n",
    "    dr.append(tempres_r[tempres_r.label ==1]['dementia'].mean())\n",
    "    d75.append(tempres_r[tempres_r.label ==1]['d75'].mean())\n",
    "    dpt.append(tempres_b[tempres_b.label ==1]['dementia'].mean())\n",
    "    dpt75.append(tempres_b[tempres_b.label ==1]['d75'].mean())"
   ]
  },
  {
   "cell_type": "code",
   "execution_count": 43,
   "metadata": {
    "ExecuteTime": {
     "end_time": "2020-04-26T23:48:57.202894Z",
     "start_time": "2020-04-26T23:48:57.194517Z"
    }
   },
   "outputs": [
    {
     "name": "stdout",
     "output_type": "stream",
     "text": [
      "model xp(dem) +- CI\n",
      "random 148.288 +- 7.691\n",
      "pretra 121.86 +- 7.669\n",
      "inte75 105.088 +- 3.477\n",
      "pret75 112.895 +- 5.005\n"
     ]
    }
   ],
   "source": [
    "print('model','xp(dem)','+-','CI')\n",
    "print('random',round(np.mean(dr),3),'+-',round(1.96*np.std(dr)/np.sqrt(10),3))\n",
    "print('pretra',round(np.mean(dpt),3),'+-',round(1.96*np.std(dpt)/np.sqrt(10),3))\n",
    "print('inte75',round(np.mean(d75),3),'+-',round(1.96*np.std(d75)/np.sqrt(10),3))\n",
    "print('pret75',round(np.mean(dpt75),3),'+-',round(1.96*np.std(dpt75)/np.sqrt(10),3))"
   ]
  },
  {
   "cell_type": "code",
   "execution_count": 44,
   "metadata": {
    "ExecuteTime": {
     "end_time": "2020-04-26T23:50:18.360578Z",
     "start_time": "2020-04-26T23:50:16.291489Z"
    }
   },
   "outputs": [],
   "source": [
    "from scipy import stats\n",
    "from IPython.display import Markdown, display\n",
    "import matplotlib.pyplot as plt\n",
    "import pandas as pd\n",
    "import numpy as np\n",
    "from sklearn.metrics import roc_curve, auc, average_precision_score, precision_recall_curve\n",
    "%matplotlib inline\n",
    "\n",
    "lastmmse=True #classify as 'mild' on basis of last MMSE (per Fritsch), or use transcript-level MMSE if false\n",
    "\n",
    "mmaucframe = pd.DataFrame(columns = ['model','x_dementia','run','c','d','c-d AUC','c/d'])\n",
    "mmeerframe = pd.DataFrame(columns = ['model','x_dementia','run','c','d','c-d ACC','c/d'])\n",
    "counter = 0\n",
    "\n",
    "spears = []\n",
    "\n",
    "#get auc from all models\n",
    "for q in ['random','basic']:\n",
    "    \n",
    "    for c in range(1,11):\n",
    "        #print(str(c)+'------------------------')\n",
    "        tempres2=pd.read_csv('compare_interpolation/'+str(c)+'gluon_output_'+q+'.tmp', header=None, names=['label','control','d25','d50','d75','dementia','files'])\n",
    "        #tempres2=tempres2.dropna();\n",
    "        ids=tempres2['files'].replace(to_replace='-.*', value='',regex=True).replace(to_replace=' ', value='',regex=True)  \n",
    "        vis=tempres2['files'].replace(to_replace='.*-', value='',regex=True).replace(to_replace=' ', value='',regex=True) \n",
    "\n",
    "        tempres2['id']=ids\n",
    "        tempres2['vis']=vis\n",
    "        tempres2=tempres2.dropna()\n",
    "        \n",
    "        mmse_list = []\n",
    "        mmse_id_list = []\n",
    "        miscount = 0\n",
    "        for i, row in tempres2.iterrows():\n",
    "            try:\n",
    "                mmse_id_list.append(mmse_id_dict[row.id])\n",
    "            except: \n",
    "                miscount = miscount +1\n",
    "                #print(miscount,\"No id for\",'[',row.files,']')\n",
    "                mmse_id_list.append(np.nan)\n",
    "            try:\n",
    "                mmse_list.append(mmse_dict[row.files.strip()])\n",
    "            except: \n",
    "                miscount = miscount +1\n",
    "                #print(miscount,\"No id for\",'[',row.files,']')\n",
    "                mmse_list.append(np.nan)\n",
    "\n",
    "        tempres2['mmse'] = mmse_list\n",
    "        tempres2['mmseid'] = mmse_id_list\n",
    "        \n",
    "        #tempres2 = tempres2[tempres2['mmse'] >= 21]\n",
    "        #tempres2 = tempres2[tempres2['vis'] == '0.txt']\n",
    "        \n",
    "        #pf_mild=tempres2.dropna().groupby(['id']).mean()\n",
    "        pf_mild = tempres2.dropna()\n",
    "        if lastmmse:\n",
    "            pf_mild = pf_mild[pf_mild.mmseid >= 21]\n",
    "            pf_mild = pf_mild.groupby(['id']).mean()\n",
    "        else:\n",
    "            pf_mild = pf_mild[pf_mild.mmse >= 21]\n",
    "       #print(stats.spearmanr(tempres2['mmse'],tempres2['control']-tempres2['d75']))\n",
    "        \n",
    "        #pf_mild = tempres2.dropna()\n",
    "        #print (len(pf_mild[pf_mild.label == 1]),len(tempres2[tempres2.label == 1]))\n",
    "        \n",
    "        auclist=[]\n",
    "        eerlist=[]\n",
    "        labels=pf_mild['label']\n",
    "        #mmses=pf_mild['mmse']\n",
    "        control=pf_mild['control']\n",
    "        d25=pf_mild['d25']\n",
    "        d50=pf_mild['d50']\n",
    "        d75=pf_mild['d75']\n",
    "        dementia=pf_mild['dementia']\n",
    "        labels=pf_mild['label']\n",
    "        k=['d25','d50','d75','dementia']\n",
    "        #resframe = pd.DataFrame(columns = ['model','x_dementia','run','c','d','c-d','c/d'])\n",
    "\n",
    "        for index,j in enumerate([d25,d50,d75,dementia]):\n",
    "            auclist=[q]\n",
    "            eerlist=[q]\n",
    "            #print(k[index])\n",
    "            auclist.append(k[index])\n",
    "            auclist.append(c)\n",
    "            eerlist.append(k[index])\n",
    "            eerlist.append(c)\n",
    "            for i in [['c',control],['d',j],['c-d',control-j],['c/d',control/j]]:\n",
    "                fpr, tpr, thresholds = roc_curve(labels,i[1])\n",
    "                roc_auc = auc(fpr, tpr)\n",
    "                auclist.append(roc_auc)\n",
    "                eerlist.append(tpr[np.nanargmax(np.absolute((tpr - fpr)))])\n",
    "                #print(i[0],\"\\tAUC={:0.3f}\".format(roc_auc), \"\\tACC={:0.3f}\".format(tpr[np.nanargmax(np.absolute((tpr - fpr)))]))\n",
    "            \n",
    "            counter = counter + 1\n",
    "            mmaucframe.loc[counter] = auclist\n",
    "            mmeerframe.loc[counter] = eerlist"
   ]
  },
  {
   "cell_type": "code",
   "execution_count": 45,
   "metadata": {
    "ExecuteTime": {
     "end_time": "2020-04-26T23:50:18.429509Z",
     "start_time": "2020-04-26T23:50:18.363568Z"
    }
   },
   "outputs": [
    {
     "name": "stdout",
     "output_type": "stream",
     "text": [
      "STOCHASTICALLY INITIALIZED\n"
     ]
    },
    {
     "data": {
      "text/html": [
       "<div>\n",
       "<style scoped>\n",
       "    .dataframe tbody tr th:only-of-type {\n",
       "        vertical-align: middle;\n",
       "    }\n",
       "\n",
       "    .dataframe tbody tr th {\n",
       "        vertical-align: top;\n",
       "    }\n",
       "\n",
       "    .dataframe thead tr th {\n",
       "        text-align: left;\n",
       "    }\n",
       "\n",
       "    .dataframe thead tr:last-of-type th {\n",
       "        text-align: right;\n",
       "    }\n",
       "</style>\n",
       "<table border=\"1\" class=\"dataframe\">\n",
       "  <thead>\n",
       "    <tr>\n",
       "      <th></th>\n",
       "      <th>c-d AUC</th>\n",
       "      <th>c-d ci</th>\n",
       "      <th>c-d ACC</th>\n",
       "      <th>c-d ci</th>\n",
       "    </tr>\n",
       "    <tr>\n",
       "      <th></th>\n",
       "      <th>mean</th>\n",
       "      <th></th>\n",
       "      <th>mean</th>\n",
       "      <th></th>\n",
       "    </tr>\n",
       "    <tr>\n",
       "      <th>x_dementia</th>\n",
       "      <th></th>\n",
       "      <th></th>\n",
       "      <th></th>\n",
       "      <th></th>\n",
       "    </tr>\n",
       "  </thead>\n",
       "  <tbody>\n",
       "    <tr>\n",
       "      <th>d25</th>\n",
       "      <td>0.768</td>\n",
       "      <td>0.016</td>\n",
       "      <td>0.715</td>\n",
       "      <td>0.059</td>\n",
       "    </tr>\n",
       "    <tr>\n",
       "      <th>d50</th>\n",
       "      <td>0.746</td>\n",
       "      <td>0.022</td>\n",
       "      <td>0.606</td>\n",
       "      <td>0.042</td>\n",
       "    </tr>\n",
       "    <tr>\n",
       "      <th>d75</th>\n",
       "      <td>0.893</td>\n",
       "      <td>0.004</td>\n",
       "      <td>0.849</td>\n",
       "      <td>0.025</td>\n",
       "    </tr>\n",
       "    <tr>\n",
       "      <th>dementia</th>\n",
       "      <td>0.836</td>\n",
       "      <td>0.014</td>\n",
       "      <td>0.789</td>\n",
       "      <td>0.031</td>\n",
       "    </tr>\n",
       "  </tbody>\n",
       "</table>\n",
       "</div>"
      ],
      "text/plain": [
       "           c-d AUC c-d ci c-d ACC c-d ci\n",
       "              mean           mean       \n",
       "x_dementia                              \n",
       "d25          0.768  0.016   0.715  0.059\n",
       "d50          0.746  0.022   0.606  0.042\n",
       "d75          0.893  0.004   0.849  0.025\n",
       "dementia     0.836  0.014   0.789  0.031"
      ]
     },
     "execution_count": 45,
     "metadata": {},
     "output_type": "execute_result"
    }
   ],
   "source": [
    "#stochastically initialized, AUC and accuracy at EER\n",
    "mmaucframe_std = mmaucframe[mmaucframe['model']=='random'].groupby('x_dementia').agg([np.mean,np.std])\n",
    "mmaucframe_std['c-d ci'] = (1.96*mmaucframe_std['c-d AUC']['std'] / np.sqrt(10)) #resframe_std['c/d']['mean'] - (1.96*resframe_std['c/d']['std'] / np.sqrt(10)) \n",
    "mmeerframe_std = mmeerframe[mmeerframe['model']=='random'].groupby('x_dementia').agg([np.mean,np.std])\n",
    "mmeerframe_std['c-d ci'] = (1.96*mmeerframe_std['c-d ACC']['std'] / np.sqrt(10)) #resframe_std['c/d']['mean'] - (1.96*resframe_std['c/d']['std'] / np.sqrt(10)) \n",
    "comboframe=pd.concat([mmaucframe_std, mmeerframe_std], axis=1, sort=False)\n",
    "print(\"STOCHASTICALLY INITIALIZED\")\n",
    "comboframe.iloc[:,np.r_[4,8,13,17]].round(3)"
   ]
  },
  {
   "cell_type": "code",
   "execution_count": 46,
   "metadata": {
    "ExecuteTime": {
     "end_time": "2020-04-26T23:50:19.720465Z",
     "start_time": "2020-04-26T23:50:19.658826Z"
    }
   },
   "outputs": [
    {
     "name": "stdout",
     "output_type": "stream",
     "text": [
      "PRETRAINED EMBEDDINGS\n"
     ]
    },
    {
     "data": {
      "text/html": [
       "<div>\n",
       "<style scoped>\n",
       "    .dataframe tbody tr th:only-of-type {\n",
       "        vertical-align: middle;\n",
       "    }\n",
       "\n",
       "    .dataframe tbody tr th {\n",
       "        vertical-align: top;\n",
       "    }\n",
       "\n",
       "    .dataframe thead tr th {\n",
       "        text-align: left;\n",
       "    }\n",
       "\n",
       "    .dataframe thead tr:last-of-type th {\n",
       "        text-align: right;\n",
       "    }\n",
       "</style>\n",
       "<table border=\"1\" class=\"dataframe\">\n",
       "  <thead>\n",
       "    <tr>\n",
       "      <th></th>\n",
       "      <th>c-d AUC</th>\n",
       "      <th>c-d ci</th>\n",
       "      <th>c-d ACC</th>\n",
       "      <th>c-d ci</th>\n",
       "    </tr>\n",
       "    <tr>\n",
       "      <th></th>\n",
       "      <th>mean</th>\n",
       "      <th></th>\n",
       "      <th>mean</th>\n",
       "      <th></th>\n",
       "    </tr>\n",
       "    <tr>\n",
       "      <th>x_dementia</th>\n",
       "      <th></th>\n",
       "      <th></th>\n",
       "      <th></th>\n",
       "      <th></th>\n",
       "    </tr>\n",
       "  </thead>\n",
       "  <tbody>\n",
       "    <tr>\n",
       "      <th>d25</th>\n",
       "      <td>0.771</td>\n",
       "      <td>0.019</td>\n",
       "      <td>0.655</td>\n",
       "      <td>0.059</td>\n",
       "    </tr>\n",
       "    <tr>\n",
       "      <th>d50</th>\n",
       "      <td>0.730</td>\n",
       "      <td>0.015</td>\n",
       "      <td>0.572</td>\n",
       "      <td>0.066</td>\n",
       "    </tr>\n",
       "    <tr>\n",
       "      <th>d75</th>\n",
       "      <td>0.899</td>\n",
       "      <td>0.012</td>\n",
       "      <td>0.855</td>\n",
       "      <td>0.032</td>\n",
       "    </tr>\n",
       "    <tr>\n",
       "      <th>dementia</th>\n",
       "      <td>0.879</td>\n",
       "      <td>0.010</td>\n",
       "      <td>0.849</td>\n",
       "      <td>0.023</td>\n",
       "    </tr>\n",
       "  </tbody>\n",
       "</table>\n",
       "</div>"
      ],
      "text/plain": [
       "           c-d AUC c-d ci c-d ACC c-d ci\n",
       "              mean           mean       \n",
       "x_dementia                              \n",
       "d25          0.771  0.019   0.655  0.059\n",
       "d50          0.730  0.015   0.572  0.066\n",
       "d75          0.899  0.012   0.855  0.032\n",
       "dementia     0.879  0.010   0.849  0.023"
      ]
     },
     "execution_count": 46,
     "metadata": {},
     "output_type": "execute_result"
    }
   ],
   "source": [
    "#stochastically initialized, AUC and accuracy at EER\n",
    "mmaucframe_std = mmaucframe[mmaucframe['model']=='basic'].groupby('x_dementia').agg([np.mean,np.std])\n",
    "mmaucframe_std['c-d ci'] = (1.96*mmaucframe_std['c-d AUC']['std'] / np.sqrt(10)) #resframe_std['c/d']['mean'] - (1.96*resframe_std['c/d']['std'] / np.sqrt(10)) \n",
    "mmeerframe_std = mmeerframe[mmeerframe['model']=='basic'].groupby('x_dementia').agg([np.mean,np.std])\n",
    "mmeerframe_std['c-d ci'] = (1.96*mmeerframe_std['c-d ACC']['std'] / np.sqrt(10)) #resframe_std['c/d']['mean'] - (1.96*resframe_std['c/d']['std'] / np.sqrt(10)) \n",
    "comboframe=pd.concat([mmaucframe_std, mmeerframe_std], axis=1, sort=False)\n",
    "print(\"PRETRAINED EMBEDDINGS\")\n",
    "comboframe.iloc[:,np.r_[4,8,13,17]].round(3)"
   ]
  },
  {
   "cell_type": "code",
   "execution_count": null,
   "metadata": {},
   "outputs": [],
   "source": []
  },
  {
   "cell_type": "code",
   "execution_count": null,
   "metadata": {},
   "outputs": [],
   "source": []
  },
  {
   "cell_type": "code",
   "execution_count": null,
   "metadata": {},
   "outputs": [],
   "source": []
  },
  {
   "cell_type": "code",
   "execution_count": null,
   "metadata": {},
   "outputs": [],
   "source": []
  }
 ],
 "metadata": {
  "kernelspec": {
   "display_name": "Python 3",
   "language": "python",
   "name": "python3"
  },
  "language_info": {
   "codemirror_mode": {
    "name": "ipython",
    "version": 3
   },
   "file_extension": ".py",
   "mimetype": "text/x-python",
   "name": "python",
   "nbconvert_exporter": "python",
   "pygments_lexer": "ipython3",
   "version": "3.7.1"
  }
 },
 "nbformat": 4,
 "nbformat_minor": 2
}
